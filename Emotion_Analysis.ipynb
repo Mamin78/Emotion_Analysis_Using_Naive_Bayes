{
  "nbformat": 4,
  "nbformat_minor": 0,
  "metadata": {
    "colab": {
      "name": "Emotion Analysis",
      "provenance": [],
      "collapsed_sections": []
    },
    "kernelspec": {
      "name": "python3",
      "display_name": "Python 3"
    },
    "language_info": {
      "name": "python"
    },
    "accelerator": "GPU"
  },
  "cells": [
    {
      "cell_type": "code",
      "metadata": {
        "id": "JGidy_-IGmax"
      },
      "source": [
        "import pandas as pd\n",
        "import nltk\n",
        "from nltk.corpus import stopwords\n",
        "from nltk.tokenize import RegexpTokenizer\n",
        "from nltk.stem import PorterStemmer\n",
        "import numpy as np\n",
        "pd.plotting.register_matplotlib_converters()\n",
        "import matplotlib.pyplot as plt\n",
        "%matplotlib inline\n",
        "import seaborn as sns"
      ],
      "execution_count": 1,
      "outputs": []
    },
    {
      "cell_type": "code",
      "metadata": {
        "colab": {
          "base_uri": "https://localhost:8080/"
        },
        "id": "l3oDSK9ZPxOG",
        "outputId": "a47a36ff-3823-4931-9a15-0d61e597d314"
      },
      "source": [
        "nltk.download(\"stopwords\")"
      ],
      "execution_count": 2,
      "outputs": [
        {
          "output_type": "stream",
          "name": "stdout",
          "text": [
            "[nltk_data] Downloading package stopwords to /root/nltk_data...\n",
            "[nltk_data]   Package stopwords is already up-to-date!\n"
          ]
        },
        {
          "output_type": "execute_result",
          "data": {
            "text/plain": [
              "True"
            ]
          },
          "metadata": {},
          "execution_count": 2
        }
      ]
    },
    {
      "cell_type": "code",
      "metadata": {
        "id": "b6pOpjdCHM5-"
      },
      "source": [
        "def data_reader(name):\n",
        "  data = pd.read_csv(name, sep=\";\", header=None)\n",
        "  data.columns = [\"text\", \"emotion\"]\n",
        "  return data"
      ],
      "execution_count": 3,
      "outputs": []
    },
    {
      "cell_type": "code",
      "metadata": {
        "id": "NW-YWE4YFbDl",
        "colab": {
          "base_uri": "https://localhost:8080/",
          "height": 204
        },
        "outputId": "d16d991e-33b4-4c98-d00b-a7677c7563fd"
      },
      "source": [
        "train = data_reader('train.txt')\n",
        "train.head()"
      ],
      "execution_count": 4,
      "outputs": [
        {
          "output_type": "execute_result",
          "data": {
            "text/html": [
              "<div>\n",
              "<style scoped>\n",
              "    .dataframe tbody tr th:only-of-type {\n",
              "        vertical-align: middle;\n",
              "    }\n",
              "\n",
              "    .dataframe tbody tr th {\n",
              "        vertical-align: top;\n",
              "    }\n",
              "\n",
              "    .dataframe thead th {\n",
              "        text-align: right;\n",
              "    }\n",
              "</style>\n",
              "<table border=\"1\" class=\"dataframe\">\n",
              "  <thead>\n",
              "    <tr style=\"text-align: right;\">\n",
              "      <th></th>\n",
              "      <th>text</th>\n",
              "      <th>emotion</th>\n",
              "    </tr>\n",
              "  </thead>\n",
              "  <tbody>\n",
              "    <tr>\n",
              "      <th>0</th>\n",
              "      <td>i didnt feel humiliated</td>\n",
              "      <td>sadness</td>\n",
              "    </tr>\n",
              "    <tr>\n",
              "      <th>1</th>\n",
              "      <td>i can go from feeling so hopeless to so damned...</td>\n",
              "      <td>sadness</td>\n",
              "    </tr>\n",
              "    <tr>\n",
              "      <th>2</th>\n",
              "      <td>im grabbing a minute to post i feel greedy wrong</td>\n",
              "      <td>anger</td>\n",
              "    </tr>\n",
              "    <tr>\n",
              "      <th>3</th>\n",
              "      <td>i am ever feeling nostalgic about the fireplac...</td>\n",
              "      <td>love</td>\n",
              "    </tr>\n",
              "    <tr>\n",
              "      <th>4</th>\n",
              "      <td>i am feeling grouchy</td>\n",
              "      <td>anger</td>\n",
              "    </tr>\n",
              "  </tbody>\n",
              "</table>\n",
              "</div>"
            ],
            "text/plain": [
              "                                                text  emotion\n",
              "0                            i didnt feel humiliated  sadness\n",
              "1  i can go from feeling so hopeless to so damned...  sadness\n",
              "2   im grabbing a minute to post i feel greedy wrong    anger\n",
              "3  i am ever feeling nostalgic about the fireplac...     love\n",
              "4                               i am feeling grouchy    anger"
            ]
          },
          "metadata": {},
          "execution_count": 4
        }
      ]
    },
    {
      "cell_type": "code",
      "metadata": {
        "id": "jIEb3j2bIaPN"
      },
      "source": [
        "classes = train.emotion.unique()\n",
        "classes_token = {classes[i]:i for i in range(len(classes))}"
      ],
      "execution_count": 5,
      "outputs": []
    },
    {
      "cell_type": "code",
      "metadata": {
        "id": "LdRXAbvmIaFZ"
      },
      "source": [
        "tokenizer = RegexpTokenizer(r'\\w+')\n",
        "stop_words = set(stopwords.words('english'))\n",
        "ps = PorterStemmer()\n",
        "\n",
        "sentences = []\n",
        "for item in train.values:\n",
        "  sentence = item[0].lower()\n",
        "  word_tokens = tokenizer.tokenize(sentence)\n",
        "  filtered_sentence = [w for w in word_tokens if not w.lower() in stop_words]\n",
        "  stemmed = [ps.stem(w) for w in word_tokens]\n",
        "  sentences.append([stemmed, item[1]])"
      ],
      "execution_count": 6,
      "outputs": []
    },
    {
      "cell_type": "code",
      "metadata": {
        "id": "EpMnwwv4IZ_0"
      },
      "source": [
        "vocabulary = []\n",
        "\n",
        "for item in sentences:\n",
        "    for word in item[0]:\n",
        "      vocabulary.append(word)\n",
        "\n",
        "vocabulary = set(vocabulary)"
      ],
      "execution_count": 7,
      "outputs": []
    },
    {
      "cell_type": "code",
      "metadata": {
        "colab": {
          "base_uri": "https://localhost:8080/"
        },
        "id": "CTjjXr-tIZ9F",
        "outputId": "55d19c37-688f-4420-b4d1-870772788c76"
      },
      "source": [
        "len(vocabulary)"
      ],
      "execution_count": 8,
      "outputs": [
        {
          "output_type": "execute_result",
          "data": {
            "text/plain": [
              "11123"
            ]
          },
          "metadata": {},
          "execution_count": 8
        }
      ]
    },
    {
      "cell_type": "code",
      "metadata": {
        "id": "YvvgXmlRIZ6W"
      },
      "source": [
        "vocab_classes = {word:[0, 0, 0, 0, 0, 0] for word in vocabulary}"
      ],
      "execution_count": 9,
      "outputs": []
    },
    {
      "cell_type": "code",
      "metadata": {
        "id": "gSvMjwEeZuby"
      },
      "source": [
        "classes_len = {i:0 for i in classes}"
      ],
      "execution_count": 10,
      "outputs": []
    },
    {
      "cell_type": "code",
      "metadata": {
        "id": "sdnZUyRfIZz5"
      },
      "source": [
        "for c, v in classes_token.items():\n",
        "  for item in sentences:\n",
        "    if item[1] == c:\n",
        "      for word in item[0]:\n",
        "        vocab_classes[word][v] += 1\n",
        "        classes_len[c] += 1"
      ],
      "execution_count": 11,
      "outputs": []
    },
    {
      "cell_type": "code",
      "metadata": {
        "colab": {
          "base_uri": "https://localhost:8080/"
        },
        "id": "tGFplTbgBCRz",
        "outputId": "58f69dc8-9307-4857-ecdd-9a47288fa23b"
      },
      "source": [
        "classes_len"
      ],
      "execution_count": 12,
      "outputs": [
        {
          "output_type": "execute_result",
          "data": {
            "text/plain": [
              "{'anger': 46797,\n",
              " 'fear': 40431,\n",
              " 'joy': 117965,\n",
              " 'love': 30651,\n",
              " 'sadness': 95678,\n",
              " 'surprise': 12871}"
            ]
          },
          "metadata": {},
          "execution_count": 12
        }
      ]
    },
    {
      "cell_type": "code",
      "metadata": {
        "id": "H8cjExEEcEWh"
      },
      "source": [
        "def sum_other_lens(cv, classes_len):\n",
        "  sum = 0\n",
        "  for c, v in classes_len.items():\n",
        "    if cv != v:\n",
        "      sum += classes_len[c]\n",
        "  return sum"
      ],
      "execution_count": 13,
      "outputs": []
    },
    {
      "cell_type": "code",
      "metadata": {
        "id": "X5hVR9rKchyv"
      },
      "source": [
        "other_lens = {c:sum_other_lens(v, classes_len) for c, v in classes_len.items()}"
      ],
      "execution_count": 14,
      "outputs": []
    },
    {
      "cell_type": "code",
      "metadata": {
        "id": "9ksx4YTqdXrv"
      },
      "source": [
        "def sum_word_occ_other_classes(word, cv):\n",
        "  sum = 0\n",
        "  for c, v in classes_len.items():\n",
        "    if cv != v:\n",
        "      sum += vocab_classes[word][classes_token[c]]\n",
        "  return sum"
      ],
      "execution_count": 15,
      "outputs": []
    },
    {
      "cell_type": "code",
      "metadata": {
        "id": "0vrs-vfad5Ry"
      },
      "source": [
        "probs = {word:[0, 0, 0, 0, 0, 0] for word in vocabulary}"
      ],
      "execution_count": 16,
      "outputs": []
    },
    {
      "cell_type": "code",
      "metadata": {
        "id": "x9W5Q6IskSHA"
      },
      "source": [
        "v_len = len(vocabulary)"
      ],
      "execution_count": 17,
      "outputs": []
    },
    {
      "cell_type": "code",
      "metadata": {
        "id": "LskNE8R9UCgT"
      },
      "source": [
        "for word in vocabulary:\n",
        "  for c, v in classes_token.items():\n",
        "    cc = (vocab_classes[word][v] + 1) / (classes_len[c] + v_len) \n",
        "    oc = (sum_word_occ_other_classes(word, v) + 1) / (other_lens[c] + v_len)\n",
        "    probs[word][v] = cc / oc"
      ],
      "execution_count": 18,
      "outputs": []
    },
    {
      "cell_type": "code",
      "metadata": {
        "id": "El_fseW9UCZ0"
      },
      "source": [
        ""
      ],
      "execution_count": 18,
      "outputs": []
    },
    {
      "cell_type": "code",
      "metadata": {
        "id": "AcFj13zKUCW9"
      },
      "source": [
        "def prob_calculator_for_one_class(c_name, sentence):\n",
        "  prior = classes_len[c_name] / other_lens[c_name]\n",
        "  mul = 1\n",
        "  for word in sentence:\n",
        "    if word in vocabulary:\n",
        "      mul *= probs[word][classes_token[c_name]]  \n",
        "  return mul*prior"
      ],
      "execution_count": 19,
      "outputs": []
    },
    {
      "cell_type": "code",
      "metadata": {
        "id": "FB5SHZNvgXc7"
      },
      "source": [
        "def preprocessing(sentence):\n",
        "  sentence = sentence.lower()\n",
        "  word_tokens = tokenizer.tokenize(sentence)\n",
        "  filtered_sentence = [w for w in word_tokens if not w.lower() in stop_words]\n",
        "  stemmed = [ps.stem(w) for w in word_tokens]\n",
        "  return stemmed"
      ],
      "execution_count": 20,
      "outputs": []
    },
    {
      "cell_type": "code",
      "metadata": {
        "id": "UXoV-j2EhYEZ"
      },
      "source": [
        "def argmax(current_probs):\n",
        "  max_v = -1\n",
        "  arg = ''\n",
        "  for c, v in current_probs.items():\n",
        "    if max_v < v:\n",
        "      max_v = v\n",
        "      arg = c\n",
        "  return arg"
      ],
      "execution_count": 21,
      "outputs": []
    },
    {
      "cell_type": "code",
      "metadata": {
        "id": "zIJfwn9QgXZi"
      },
      "source": [
        "def classifier(sentence):\n",
        "  current_probs = {classes[i]:0 for i in range(len(classes))}\n",
        "  sentence = preprocessing(sentence)\n",
        "  for c_name, c_value in classes_token.items():\n",
        "    c_p = prob_calculator_for_one_class(c_name, sentence)\n",
        "    current_probs[c_name] = c_p\n",
        "  return argmax(current_probs)"
      ],
      "execution_count": 22,
      "outputs": []
    },
    {
      "cell_type": "code",
      "metadata": {
        "id": "fPuyT-XWgXWl"
      },
      "source": [
        "test = data_reader('test.txt')"
      ],
      "execution_count": 23,
      "outputs": []
    },
    {
      "cell_type": "code",
      "metadata": {
        "colab": {
          "base_uri": "https://localhost:8080/",
          "height": 419
        },
        "id": "oT2o7nAngXUA",
        "outputId": "a06ebe23-0e93-4fb1-eba6-024d3ff1f273"
      },
      "source": [
        "test"
      ],
      "execution_count": 24,
      "outputs": [
        {
          "output_type": "execute_result",
          "data": {
            "text/html": [
              "<div>\n",
              "<style scoped>\n",
              "    .dataframe tbody tr th:only-of-type {\n",
              "        vertical-align: middle;\n",
              "    }\n",
              "\n",
              "    .dataframe tbody tr th {\n",
              "        vertical-align: top;\n",
              "    }\n",
              "\n",
              "    .dataframe thead th {\n",
              "        text-align: right;\n",
              "    }\n",
              "</style>\n",
              "<table border=\"1\" class=\"dataframe\">\n",
              "  <thead>\n",
              "    <tr style=\"text-align: right;\">\n",
              "      <th></th>\n",
              "      <th>text</th>\n",
              "      <th>emotion</th>\n",
              "    </tr>\n",
              "  </thead>\n",
              "  <tbody>\n",
              "    <tr>\n",
              "      <th>0</th>\n",
              "      <td>im feeling rather rotten so im not very ambiti...</td>\n",
              "      <td>sadness</td>\n",
              "    </tr>\n",
              "    <tr>\n",
              "      <th>1</th>\n",
              "      <td>im updating my blog because i feel shitty</td>\n",
              "      <td>sadness</td>\n",
              "    </tr>\n",
              "    <tr>\n",
              "      <th>2</th>\n",
              "      <td>i never make her separate from me because i do...</td>\n",
              "      <td>sadness</td>\n",
              "    </tr>\n",
              "    <tr>\n",
              "      <th>3</th>\n",
              "      <td>i left with my bouquet of red and yellow tulip...</td>\n",
              "      <td>joy</td>\n",
              "    </tr>\n",
              "    <tr>\n",
              "      <th>4</th>\n",
              "      <td>i was feeling a little vain when i did this one</td>\n",
              "      <td>sadness</td>\n",
              "    </tr>\n",
              "    <tr>\n",
              "      <th>...</th>\n",
              "      <td>...</td>\n",
              "      <td>...</td>\n",
              "    </tr>\n",
              "    <tr>\n",
              "      <th>1995</th>\n",
              "      <td>i just keep feeling like someone is being unki...</td>\n",
              "      <td>anger</td>\n",
              "    </tr>\n",
              "    <tr>\n",
              "      <th>1996</th>\n",
              "      <td>im feeling a little cranky negative after this...</td>\n",
              "      <td>anger</td>\n",
              "    </tr>\n",
              "    <tr>\n",
              "      <th>1997</th>\n",
              "      <td>i feel that i am useful to my people and that ...</td>\n",
              "      <td>joy</td>\n",
              "    </tr>\n",
              "    <tr>\n",
              "      <th>1998</th>\n",
              "      <td>im feeling more comfortable with derby i feel ...</td>\n",
              "      <td>joy</td>\n",
              "    </tr>\n",
              "    <tr>\n",
              "      <th>1999</th>\n",
              "      <td>i feel all weird when i have to meet w people ...</td>\n",
              "      <td>fear</td>\n",
              "    </tr>\n",
              "  </tbody>\n",
              "</table>\n",
              "<p>2000 rows × 2 columns</p>\n",
              "</div>"
            ],
            "text/plain": [
              "                                                   text  emotion\n",
              "0     im feeling rather rotten so im not very ambiti...  sadness\n",
              "1             im updating my blog because i feel shitty  sadness\n",
              "2     i never make her separate from me because i do...  sadness\n",
              "3     i left with my bouquet of red and yellow tulip...      joy\n",
              "4       i was feeling a little vain when i did this one  sadness\n",
              "...                                                 ...      ...\n",
              "1995  i just keep feeling like someone is being unki...    anger\n",
              "1996  im feeling a little cranky negative after this...    anger\n",
              "1997  i feel that i am useful to my people and that ...      joy\n",
              "1998  im feeling more comfortable with derby i feel ...      joy\n",
              "1999  i feel all weird when i have to meet w people ...     fear\n",
              "\n",
              "[2000 rows x 2 columns]"
            ]
          },
          "metadata": {},
          "execution_count": 24
        }
      ]
    },
    {
      "cell_type": "markdown",
      "metadata": {
        "id": "AfNDYv65ARn5"
      },
      "source": [
        "**Predict and calcualte accuracy**"
      ]
    },
    {
      "cell_type": "code",
      "metadata": {
        "id": "gA68V7uLgXOY"
      },
      "source": [
        "classified = []\n",
        "all_corrects = 0\n",
        "for item in test.values:\n",
        "  p_c = classifier(item[0])\n",
        "  classified.append([item[0], p_c, item[1]])\n",
        "  if p_c == item[1]:\n",
        "    all_corrects +=1\n",
        "\n",
        "accuracy = all_corrects / len(test.values)"
      ],
      "execution_count": 25,
      "outputs": []
    },
    {
      "cell_type": "code",
      "metadata": {
        "colab": {
          "base_uri": "https://localhost:8080/"
        },
        "id": "ahhVQC-wnOHl",
        "outputId": "a6b1fafa-fc0c-4907-94a1-0b5349790197"
      },
      "source": [
        "print('Accuracy is: ', accuracy)"
      ],
      "execution_count": 26,
      "outputs": [
        {
          "output_type": "stream",
          "name": "stdout",
          "text": [
            "Accuracy is:  0.658\n"
          ]
        }
      ]
    },
    {
      "cell_type": "markdown",
      "metadata": {
        "id": "3aO3uKnkAmNz"
      },
      "source": [
        "Save output dataframe"
      ]
    },
    {
      "cell_type": "code",
      "metadata": {
        "id": "4VP9jbfNqg5n",
        "colab": {
          "base_uri": "https://localhost:8080/",
          "height": 204
        },
        "outputId": "46bdf1f8-6bc3-4c05-e60f-55a9e2ea19bf"
      },
      "source": [
        "output = pd.DataFrame(classified)\n",
        "output.columns = [\"text\", \"predicted_emotion\", \"emotion\"]\n",
        "output.head()"
      ],
      "execution_count": 27,
      "outputs": [
        {
          "output_type": "execute_result",
          "data": {
            "text/html": [
              "<div>\n",
              "<style scoped>\n",
              "    .dataframe tbody tr th:only-of-type {\n",
              "        vertical-align: middle;\n",
              "    }\n",
              "\n",
              "    .dataframe tbody tr th {\n",
              "        vertical-align: top;\n",
              "    }\n",
              "\n",
              "    .dataframe thead th {\n",
              "        text-align: right;\n",
              "    }\n",
              "</style>\n",
              "<table border=\"1\" class=\"dataframe\">\n",
              "  <thead>\n",
              "    <tr style=\"text-align: right;\">\n",
              "      <th></th>\n",
              "      <th>text</th>\n",
              "      <th>predicted_emotion</th>\n",
              "      <th>emotion</th>\n",
              "    </tr>\n",
              "  </thead>\n",
              "  <tbody>\n",
              "    <tr>\n",
              "      <th>0</th>\n",
              "      <td>im feeling rather rotten so im not very ambiti...</td>\n",
              "      <td>sadness</td>\n",
              "      <td>sadness</td>\n",
              "    </tr>\n",
              "    <tr>\n",
              "      <th>1</th>\n",
              "      <td>im updating my blog because i feel shitty</td>\n",
              "      <td>sadness</td>\n",
              "      <td>sadness</td>\n",
              "    </tr>\n",
              "    <tr>\n",
              "      <th>2</th>\n",
              "      <td>i never make her separate from me because i do...</td>\n",
              "      <td>anger</td>\n",
              "      <td>sadness</td>\n",
              "    </tr>\n",
              "    <tr>\n",
              "      <th>3</th>\n",
              "      <td>i left with my bouquet of red and yellow tulip...</td>\n",
              "      <td>fear</td>\n",
              "      <td>joy</td>\n",
              "    </tr>\n",
              "    <tr>\n",
              "      <th>4</th>\n",
              "      <td>i was feeling a little vain when i did this one</td>\n",
              "      <td>sadness</td>\n",
              "      <td>sadness</td>\n",
              "    </tr>\n",
              "  </tbody>\n",
              "</table>\n",
              "</div>"
            ],
            "text/plain": [
              "                                                text predicted_emotion  emotion\n",
              "0  im feeling rather rotten so im not very ambiti...           sadness  sadness\n",
              "1          im updating my blog because i feel shitty           sadness  sadness\n",
              "2  i never make her separate from me because i do...             anger  sadness\n",
              "3  i left with my bouquet of red and yellow tulip...              fear      joy\n",
              "4    i was feeling a little vain when i did this one           sadness  sadness"
            ]
          },
          "metadata": {},
          "execution_count": 27
        }
      ]
    },
    {
      "cell_type": "code",
      "metadata": {
        "id": "_Ds3QQC5sRno"
      },
      "source": [
        "output.to_csv('output.csv', index=False)"
      ],
      "execution_count": 28,
      "outputs": []
    },
    {
      "cell_type": "markdown",
      "metadata": {
        "id": "bMxDcrZ0AMth"
      },
      "source": [
        "Calculate accuracy for every classes"
      ]
    },
    {
      "cell_type": "code",
      "metadata": {
        "colab": {
          "base_uri": "https://localhost:8080/"
        },
        "id": "c7jIZsS35sOE",
        "outputId": "2b3c4c78-d3d7-448e-89e7-b2e6fd349618"
      },
      "source": [
        "class_ac = {}\n",
        "for c in classes:\n",
        "  c_c = output[output['emotion'] == c]\n",
        "  c_c['ok'] = c_c['predicted_emotion'] == c_c['emotion']\n",
        "  class_ac[c] = c_c['ok'].sum() / len(c_c.values)"
      ],
      "execution_count": 29,
      "outputs": [
        {
          "output_type": "stream",
          "name": "stderr",
          "text": [
            "/usr/local/lib/python3.7/dist-packages/ipykernel_launcher.py:4: SettingWithCopyWarning: \n",
            "A value is trying to be set on a copy of a slice from a DataFrame.\n",
            "Try using .loc[row_indexer,col_indexer] = value instead\n",
            "\n",
            "See the caveats in the documentation: https://pandas.pydata.org/pandas-docs/stable/user_guide/indexing.html#returning-a-view-versus-a-copy\n",
            "  after removing the cwd from sys.path.\n"
          ]
        }
      ]
    },
    {
      "cell_type": "code",
      "metadata": {
        "colab": {
          "base_uri": "https://localhost:8080/"
        },
        "id": "VZsF_nu25sEK",
        "outputId": "5edd3358-3848-408a-a3b3-566bbbe16634"
      },
      "source": [
        "class_ac"
      ],
      "execution_count": 30,
      "outputs": [
        {
          "output_type": "execute_result",
          "data": {
            "text/plain": [
              "{'anger': 0.8981818181818182,\n",
              " 'fear': 0.90625,\n",
              " 'joy': 0.4776978417266187,\n",
              " 'love': 0.779874213836478,\n",
              " 'sadness': 0.685025817555938,\n",
              " 'surprise': 0.18181818181818182}"
            ]
          },
          "metadata": {},
          "execution_count": 30
        }
      ]
    },
    {
      "cell_type": "code",
      "metadata": {
        "colab": {
          "base_uri": "https://localhost:8080/",
          "height": 312
        },
        "id": "mYUmFwYgEjTa",
        "outputId": "2663a412-54b1-41ce-c9f3-eb9a298522bd"
      },
      "source": [
        "plt.figure(figsize=(8,4))\n",
        "\n",
        "plt.title(\"Accuracy of each class\")\n",
        "\n",
        "g = sns.barplot(x=[v for v in class_ac.keys()], y=[v for v in class_ac.values()])\n",
        "ticks = [float(format(v, \".1f\")) for v in class_ac.values()]\n",
        "g.set_yticks(ticks)\n",
        "plt.yticks(rotation=45)\n",
        "\n",
        "plt.ylabel(\"Accuracy\")\n",
        "plt.xlabel(\"Class\")"
      ],
      "execution_count": 31,
      "outputs": [
        {
          "output_type": "execute_result",
          "data": {
            "text/plain": [
              "Text(0.5, 0, 'Class')"
            ]
          },
          "metadata": {},
          "execution_count": 31
        },
        {
          "output_type": "display_data",
          "data": {
            "image/png": "[encoded data removed]",
            "text/plain": [
              "<Figure size 576x288 with 1 Axes>"
            ]
          },
          "metadata": {
            "needs_background": "light"
          }
        }
      ]
    },
    {
      "cell_type": "markdown",
      "metadata": {
        "id": "qthq2jNk_3u2"
      },
      "source": [
        "**Discoverig most positive words for every classes**"
      ]
    },
    {
      "cell_type": "code",
      "metadata": {
        "colab": {
          "base_uri": "https://localhost:8080/",
          "height": 419
        },
        "id": "WdfRC93l7dmu",
        "outputId": "8bc657c4-e665-476e-90e1-b209b6a6d307"
      },
      "source": [
        "pb = pd.DataFrame(probs)\n",
        "pb = pb.transpose()\n",
        "pb.columns = [c for c,v in classes_token.items()]\n",
        "pb"
      ],
      "execution_count": 32,
      "outputs": [
        {
          "output_type": "execute_result",
          "data": {
            "text/html": [
              "<div>\n",
              "<style scoped>\n",
              "    .dataframe tbody tr th:only-of-type {\n",
              "        vertical-align: middle;\n",
              "    }\n",
              "\n",
              "    .dataframe tbody tr th {\n",
              "        vertical-align: top;\n",
              "    }\n",
              "\n",
              "    .dataframe thead th {\n",
              "        text-align: right;\n",
              "    }\n",
              "</style>\n",
              "<table border=\"1\" class=\"dataframe\">\n",
              "  <thead>\n",
              "    <tr style=\"text-align: right;\">\n",
              "      <th></th>\n",
              "      <th>sadness</th>\n",
              "      <th>anger</th>\n",
              "      <th>love</th>\n",
              "      <th>surprise</th>\n",
              "      <th>fear</th>\n",
              "      <th>joy</th>\n",
              "    </tr>\n",
              "  </thead>\n",
              "  <tbody>\n",
              "    <tr>\n",
              "      <th>bicycl</th>\n",
              "      <td>1.216459</td>\n",
              "      <td>2.665047</td>\n",
              "      <td>3.888364</td>\n",
              "      <td>7.140223</td>\n",
              "      <td>6.111747</td>\n",
              "      <td>0.920113</td>\n",
              "    </tr>\n",
              "    <tr>\n",
              "      <th>button</th>\n",
              "      <td>0.324389</td>\n",
              "      <td>1.421358</td>\n",
              "      <td>0.518448</td>\n",
              "      <td>2.856089</td>\n",
              "      <td>0.814900</td>\n",
              "      <td>0.981453</td>\n",
              "    </tr>\n",
              "    <tr>\n",
              "      <th>metabol</th>\n",
              "      <td>1.216459</td>\n",
              "      <td>2.665047</td>\n",
              "      <td>3.888364</td>\n",
              "      <td>7.140223</td>\n",
              "      <td>6.111747</td>\n",
              "      <td>0.920113</td>\n",
              "    </tr>\n",
              "    <tr>\n",
              "      <th>southern</th>\n",
              "      <td>1.216459</td>\n",
              "      <td>5.330093</td>\n",
              "      <td>3.888364</td>\n",
              "      <td>7.140223</td>\n",
              "      <td>3.055873</td>\n",
              "      <td>0.920113</td>\n",
              "    </tr>\n",
              "    <tr>\n",
              "      <th>mcgarrigl</th>\n",
              "      <td>1.216459</td>\n",
              "      <td>2.665047</td>\n",
              "      <td>3.888364</td>\n",
              "      <td>7.140223</td>\n",
              "      <td>3.055873</td>\n",
              "      <td>1.840225</td>\n",
              "    </tr>\n",
              "    <tr>\n",
              "      <th>...</th>\n",
              "      <td>...</td>\n",
              "      <td>...</td>\n",
              "      <td>...</td>\n",
              "      <td>...</td>\n",
              "      <td>...</td>\n",
              "      <td>...</td>\n",
              "    </tr>\n",
              "    <tr>\n",
              "      <th>techniqu</th>\n",
              "      <td>1.081297</td>\n",
              "      <td>1.184465</td>\n",
              "      <td>0.864081</td>\n",
              "      <td>4.760148</td>\n",
              "      <td>1.358166</td>\n",
              "      <td>0.408939</td>\n",
              "    </tr>\n",
              "    <tr>\n",
              "      <th>quot</th>\n",
              "      <td>0.608229</td>\n",
              "      <td>1.332523</td>\n",
              "      <td>0.486045</td>\n",
              "      <td>2.677583</td>\n",
              "      <td>1.527937</td>\n",
              "      <td>0.575070</td>\n",
              "    </tr>\n",
              "    <tr>\n",
              "      <th>exspress</th>\n",
              "      <td>1.216459</td>\n",
              "      <td>2.665047</td>\n",
              "      <td>3.888364</td>\n",
              "      <td>7.140223</td>\n",
              "      <td>3.055873</td>\n",
              "      <td>1.840225</td>\n",
              "    </tr>\n",
              "    <tr>\n",
              "      <th>celebr</th>\n",
              "      <td>0.589798</td>\n",
              "      <td>0.484554</td>\n",
              "      <td>1.178292</td>\n",
              "      <td>0.432741</td>\n",
              "      <td>0.555613</td>\n",
              "      <td>1.003759</td>\n",
              "    </tr>\n",
              "    <tr>\n",
              "      <th>prior</th>\n",
              "      <td>1.390238</td>\n",
              "      <td>1.522884</td>\n",
              "      <td>2.221922</td>\n",
              "      <td>2.040064</td>\n",
              "      <td>0.873107</td>\n",
              "      <td>0.525779</td>\n",
              "    </tr>\n",
              "  </tbody>\n",
              "</table>\n",
              "<p>11123 rows × 6 columns</p>\n",
              "</div>"
            ],
            "text/plain": [
              "            sadness     anger      love  surprise      fear       joy\n",
              "bicycl     1.216459  2.665047  3.888364  7.140223  6.111747  0.920113\n",
              "button     0.324389  1.421358  0.518448  2.856089  0.814900  0.981453\n",
              "metabol    1.216459  2.665047  3.888364  7.140223  6.111747  0.920113\n",
              "southern   1.216459  5.330093  3.888364  7.140223  3.055873  0.920113\n",
              "mcgarrigl  1.216459  2.665047  3.888364  7.140223  3.055873  1.840225\n",
              "...             ...       ...       ...       ...       ...       ...\n",
              "techniqu   1.081297  1.184465  0.864081  4.760148  1.358166  0.408939\n",
              "quot       0.608229  1.332523  0.486045  2.677583  1.527937  0.575070\n",
              "exspress   1.216459  2.665047  3.888364  7.140223  3.055873  1.840225\n",
              "celebr     0.589798  0.484554  1.178292  0.432741  0.555613  1.003759\n",
              "prior      1.390238  1.522884  2.221922  2.040064  0.873107  0.525779\n",
              "\n",
              "[11123 rows x 6 columns]"
            ]
          },
          "metadata": {},
          "execution_count": 32
        }
      ]
    },
    {
      "cell_type": "code",
      "metadata": {
        "id": "Tpx01NrV-Zjg"
      },
      "source": [
        "most_p_word_for_classes = {}\n",
        "for c in classes:\n",
        "  c_w = pb[c]\n",
        "  c_w = c_w.sort_values(ascending=False)\n",
        "  most_p_word_for_classes[c] = c_w"
      ],
      "execution_count": 33,
      "outputs": []
    },
    {
      "cell_type": "code",
      "metadata": {
        "colab": {
          "base_uri": "https://localhost:8080/"
        },
        "id": "TLKDQn5D_GZI",
        "outputId": "b146007c-5a16-4eef-849d-af9aabc785c4"
      },
      "source": [
        "for c, v in most_p_word_for_classes.items():\n",
        "  print()\n",
        "  print('class: ', c)\n",
        "  print(v)\n",
        "  print()"
      ],
      "execution_count": 34,
      "outputs": [
        {
          "output_type": "stream",
          "name": "stdout",
          "text": [
            "\n",
            "class:  sadness\n",
            "defect        2.432917\n",
            "countertop    2.432917\n",
            "rounder       2.432917\n",
            "barefoot      2.432917\n",
            "drivel        2.432917\n",
            "                ...   \n",
            "honor         0.037429\n",
            "festiv        0.037429\n",
            "shaken        0.034266\n",
            "apprehens     0.034266\n",
            "cute          0.030411\n",
            "Name: sadness, Length: 11123, dtype: float64\n",
            "\n",
            "\n",
            "class:  anger\n",
            "scafel        5.330093\n",
            "resembl       5.330093\n",
            "riku          5.330093\n",
            "brainstorm    5.330093\n",
            "becuas        5.330093\n",
            "                ...   \n",
            "popular       0.067470\n",
            "satisfi       0.064218\n",
            "terrifi       0.059889\n",
            "belov         0.059223\n",
            "weird         0.036259\n",
            "Name: anger, Length: 11123, dtype: float64\n",
            "\n",
            "\n",
            "class:  love\n",
            "ange       7.776727\n",
            "shorter    7.776727\n",
            "boulder    7.776727\n",
            "rehears    7.776727\n",
            "ryder      7.776727\n",
            "             ...   \n",
            "stress     0.075871\n",
            "anxiou     0.074776\n",
            "agit       0.065351\n",
            "depress    0.058915\n",
            "content    0.058915\n",
            "Name: love, Length: 11123, dtype: float64\n",
            "\n",
            "\n",
            "class:  surprise\n",
            "houston    14.280445\n",
            "wot        14.280445\n",
            "nemo       14.280445\n",
            "slalom     14.280445\n",
            "ala        14.280445\n",
            "             ...    \n",
            "late        0.091541\n",
            "irrit       0.090383\n",
            "sweet       0.089253\n",
            "toward      0.084500\n",
            "accept      0.067680\n",
            "Name: surprise, Length: 11123, dtype: float64\n",
            "\n",
            "\n",
            "class:  fear\n",
            "apprehens     6.111747\n",
            "distraught    6.111747\n",
            "chatter       6.111747\n",
            "ip            6.111747\n",
            "pipe          6.111747\n",
            "                ...   \n",
            "brave         0.078356\n",
            "shitti        0.077364\n",
            "sweet         0.076397\n",
            "satisfi       0.073636\n",
            "belov         0.067908\n",
            "Name: fear, Length: 11123, dtype: float64\n",
            "\n",
            "\n",
            "class:  joy\n",
            "h            1.840225\n",
            "kava         1.840225\n",
            "wah          1.840225\n",
            "onion        1.840225\n",
            "solemn       1.840225\n",
            "               ...   \n",
            "apprehens    0.025919\n",
            "shaken       0.025919\n",
            "violent      0.025209\n",
            "unsur        0.023294\n",
            "agit         0.015464\n",
            "Name: joy, Length: 11123, dtype: float64\n",
            "\n"
          ]
        }
      ]
    }
  ]
}